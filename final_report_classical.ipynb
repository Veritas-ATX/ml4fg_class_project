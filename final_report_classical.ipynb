{
 "cells": [
  {
   "cell_type": "markdown",
   "id": "263a3272-e8cd-4b51-9aaf-932ce45fb06d",
   "metadata": {},
   "source": [
    "# ML4FG Final Report Classical Code\n",
    "### By: Austin Stiefelmaier 12/14/23"
   ]
  },
  {
   "cell_type": "markdown",
   "id": "5f775c36-6b70-41d0-8e66-e17f5b94e34f",
   "metadata": {},
   "source": [
    "## Imports and Settings"
   ]
  },
  {
   "cell_type": "code",
   "execution_count": 2,
   "id": "cbadb1c6",
   "metadata": {},
   "outputs": [],
   "source": [
    "# General imports\n",
    "import os\n",
    "import copy\n",
    "import matplotlib.pyplot as plt\n",
    "from tqdm.notebook import tqdm\n",
    "\n",
    "import numpy as np\n",
    "import pandas as pd\n",
    "import matplotlib.pyplot as plt\n",
    "from sklearn.model_selection import train_test_split\n",
    "from sklearn.preprocessing import OneHotEncoder\n",
    "from sklearn.metrics import confusion_matrix, classification_report, accuracy_score\n",
    "\n",
    "\n",
    "# PyTorch imports\n",
    "import torch\n",
    "import torch.nn as nn\n",
    "import torch.optim as optim\n",
    "from torch.optim import lr_scheduler\n",
    "import torch.nn.functional as F\n",
    "from torch.utils.data import TensorDataset"
   ]
  },
  {
   "cell_type": "code",
   "execution_count": 5,
   "id": "5fcb8f46-b67f-4c99-afdf-0a6a980f1dfb",
   "metadata": {},
   "outputs": [
    {
     "name": "stdout",
     "output_type": "stream",
     "text": [
      "cpu\n"
     ]
    }
   ],
   "source": [
    "# Fix random num generation for reproducibility \n",
    "torch.manual_seed(7)\n",
    "np.random.seed(7)\n",
    "# os.environ[\"OMP_NUM_THREADS\"] = \"1\"\n",
    "# If GPU available, set to run on it\n",
    "device = torch.device('cuda:0' if torch.cuda.is_available() else 'cpu')\n",
    "device = 'cpu'\n",
    "print(device)"
   ]
  },
  {
   "cell_type": "markdown",
   "id": "94266a11-f651-4e30-9fb5-885f6715ffe7",
   "metadata": {},
   "source": [
    "## Load Data"
   ]
  },
  {
   "cell_type": "code",
   "execution_count": 6,
   "id": "d566b0e1",
   "metadata": {
    "collapsed": false,
    "jupyter": {
     "outputs_hidden": false
    }
   },
   "outputs": [],
   "source": [
    "# Data download\n",
    "df_x = pd.read_csv('/home/as6734/ml4fg_class_project/TCGA-PANCAN-HiSeq-801x20531/data.csv')\n",
    "df_y = pd.read_csv('/home/as6734/ml4fg_class_project/TCGA-PANCAN-HiSeq-801x20531/labels.csv')"
   ]
  },
  {
   "cell_type": "code",
   "execution_count": 7,
   "id": "48c85d30-ced3-476c-9121-29c57dbe33b2",
   "metadata": {},
   "outputs": [],
   "source": [
    "# Clean data\n",
    "\n",
    "# Drop first column that only notes sample number (which can be reconstructed from index if need be\n",
    "df_x.drop(columns=['Unnamed: 0'], axis=1, inplace=True)\n",
    "df_y.drop(columns=['Unnamed: 0'], axis=1, inplace=True)\n",
    "# Remove columns with all 0.0 values\n",
    "df_x = df_x.loc[:, (df_x != 0).any(axis=0)]"
   ]
  },
  {
   "cell_type": "code",
   "execution_count": 8,
   "id": "a4dc4c81-aa50-41a8-a112-e0b8e69d2bbf",
   "metadata": {},
   "outputs": [],
   "source": [
    "# Pre-process data\n",
    "\n",
    "# Normalize values by mean\n",
    "df_x=(df_x-df_x.mean())/df_x.std()\n",
    "\n",
    "# Encode classes\n",
    "enc = OneHotEncoder(handle_unknown='ignore', sparse_output=False).fit(df_y.values)\n",
    "y = enc.transform(df_y.values)"
   ]
  },
  {
   "cell_type": "code",
   "execution_count": 9,
   "id": "c92ec11d",
   "metadata": {},
   "outputs": [
    {
     "name": "stdout",
     "output_type": "stream",
     "text": [
      "{'train': 512, 'validation': 128, 'test': 161}\n"
     ]
    }
   ],
   "source": [
    "# Split data, final percentages are approximately 64% train, 16% validation, 20% test\n",
    "x_train, x_test, y_train, y_test = train_test_split(df_x.values, y, test_size=0.2, train_size=0.8, random_state=7, stratify=y)\n",
    "x_train, x_valid, y_train, y_valid = train_test_split(x_train, y_train, test_size=0.2, train_size=0.8, random_state=7, stratify=y_train)\n",
    "dataset_sizes = {'train': len(x_train), 'validation': len(x_valid), 'test': len(x_test)}\n",
    "print(dataset_sizes)"
   ]
  },
  {
   "cell_type": "code",
   "execution_count": 7,
   "id": "c8479e18-c4a9-4a25-816d-2c2a4df6b1ed",
   "metadata": {},
   "outputs": [],
   "source": [
    "# Training data reductions to match percentages noted in future cells, \n",
    "# NOTE: all reduced slightly to %8\n",
    "# x_train = x_train[0:int(dataset_sizes['train']*0.8-(dataset_sizes['train']*0.8)%8)]\n",
    "# y_train = y_train[0:int(dataset_sizes['train']*0.8-(dataset_sizes['train']*0.8)%8)]\n",
    "\n",
    "# x_train = x_train[0:int(dataset_sizes['train']*0.6-(dataset_sizes['train']*0.6)%8)]\n",
    "# y_train = y_train[0:int(dataset_sizes['train']*0.6-(dataset_sizes['train']*0.6)%8)]\n",
    "\n",
    "# x_train = x_train[0:int(dataset_sizes['train']*0.4-(dataset_sizes['train']*0.4)%8)]\n",
    "# y_train = y_train[0:int(dataset_sizes['train']*0.4-(dataset_sizes['train']*0.4)%8)]\n",
    "\n",
    "x_train = x_train[0:int(dataset_sizes['train']*0.2-(dataset_sizes['train']*0.2)%8)]\n",
    "y_train = y_train[0:int(dataset_sizes['train']*0.2-(dataset_sizes['train']*0.2)%8)]"
   ]
  },
  {
   "cell_type": "code",
   "execution_count": 10,
   "id": "22283318-279b-4514-8a88-dfc8ef9f47c0",
   "metadata": {},
   "outputs": [],
   "source": [
    "# Convert to DataLoaders\n",
    "x_train_to_tensor = torch.from_numpy(x_train).to(torch.float32).to(device)\n",
    "y_train_to_tensor = torch.from_numpy(y_train).to(torch.float32).to(device)\n",
    "x_valid_to_tensor = torch.from_numpy(x_valid).to(torch.float32).to(device)\n",
    "y_valid_to_tensor = torch.from_numpy(y_valid).to(torch.float32).to(device)\n",
    "x_test_to_tensor = torch.from_numpy(x_test).to(torch.float32).to(device)\n",
    "y_test_to_tensor = torch.from_numpy(y_test).to(torch.float32).to(device)\n",
    "\n",
    "# Second step: Creating TensorDataset for Dataloader\n",
    "train_set = TensorDataset(x_train_to_tensor, y_train_to_tensor)\n",
    "valid_set = TensorDataset(x_valid_to_tensor, y_valid_to_tensor)\n",
    "test_set = TensorDataset(x_test_to_tensor, y_test_to_tensor)\n",
    "\n",
    "# Create DataLoader\n",
    "dataloaders = {\n",
    "    'train': torch.utils.data.DataLoader(train_set, batch_size=8, shuffle=True),\n",
    "    'validation': torch.utils.data.DataLoader(valid_set, batch_size=8),\n",
    "    'test': torch.utils.data.DataLoader(test_set, shuffle=True, batch_size=8)\n",
    "}"
   ]
  },
  {
   "cell_type": "markdown",
   "id": "916720a3-5e54-4bee-b428-7be9e3252bdc",
   "metadata": {},
   "source": [
    "## Classical Architecture"
   ]
  },
  {
   "cell_type": "code",
   "execution_count": 11,
   "id": "94c56560",
   "metadata": {},
   "outputs": [],
   "source": [
    "# Classical Model Class\n",
    "class ClassicalNet(nn.Module):\n",
    "    # Initialize layers\n",
    "    def __init__(self, num_feature):\n",
    "        super().__init__()\n",
    "        # Layers before quantum circuit\n",
    "        self.layer_1 = nn.Linear(num_feature, 512)\n",
    "        self.batchnorm1 = nn.BatchNorm1d(512)\n",
    "        self.layer_2 = nn.Linear(512, 128)\n",
    "        self.batchnorm2 = nn.BatchNorm1d(128)\n",
    "        self.layer_3 = nn.Linear(128, 64)\n",
    "        self.batchnorm3 = nn.BatchNorm1d(64)\n",
    "        self.layer_4 = nn.Linear(64, 5)\n",
    "        self.c1 = nn.Conv1d(8, 8, 2)\n",
    "        self.layer_5 = nn.Linear(4, 5)\n",
    "        # Misc\n",
    "        self.relu = nn.ReLU()\n",
    "        self.dropout = nn.Dropout(p=0.2)\n",
    "\n",
    "    # Forward pass procedure\n",
    "    def forward(self, x):\n",
    "        # First layer\n",
    "        x = self.layer_1(x)\n",
    "        x = self.batchnorm1(x)\n",
    "        x = self.relu(x)\n",
    "\n",
    "        # Second layer\n",
    "        x = self.layer_2(x)\n",
    "        x = self.batchnorm2(x)\n",
    "        x = self.relu(x)\n",
    "        x = self.dropout(x)\n",
    "\n",
    "        # Third layer\n",
    "        x = self.layer_3(x)\n",
    "        x = self.batchnorm3(x)\n",
    "        x = self.relu(x)\n",
    "        x = self.dropout(x)\n",
    "        \n",
    "        # Quantum stand in layers \n",
    "        x = self.layer_4(x)\n",
    "        x = self.c1(x)\n",
    "        x = torch.flatten(x, 1)\n",
    "        x = self.layer_5(x)\n",
    "        return x"
   ]
  },
  {
   "cell_type": "code",
   "execution_count": 12,
   "id": "036f4bbb",
   "metadata": {},
   "outputs": [
    {
     "name": "stdout",
     "output_type": "stream",
     "text": [
      "ClassicalNet(\n",
      "  (layer_1): Linear(in_features=20264, out_features=512, bias=True)\n",
      "  (batchnorm1): BatchNorm1d(512, eps=1e-05, momentum=0.1, affine=True, track_running_stats=True)\n",
      "  (layer_2): Linear(in_features=512, out_features=128, bias=True)\n",
      "  (batchnorm2): BatchNorm1d(128, eps=1e-05, momentum=0.1, affine=True, track_running_stats=True)\n",
      "  (layer_3): Linear(in_features=128, out_features=64, bias=True)\n",
      "  (batchnorm3): BatchNorm1d(64, eps=1e-05, momentum=0.1, affine=True, track_running_stats=True)\n",
      "  (layer_4): Linear(in_features=64, out_features=5, bias=True)\n",
      "  (c1): Conv1d(8, 8, kernel_size=(2,), stride=(1,))\n",
      "  (layer_5): Linear(in_features=4, out_features=5, bias=True)\n",
      "  (relu): ReLU()\n",
      "  (dropout): Dropout(p=0.2, inplace=False)\n",
      ")\n"
     ]
    }
   ],
   "source": [
    "# Instantiate model\n",
    "model = ClassicalNet(num_feature=len(df_x.columns))\n",
    "# Make sure set to use GPU\n",
    "model = model.to(device)\n",
    "# Show model architecture summary\n",
    "print(model)"
   ]
  },
  {
   "cell_type": "markdown",
   "id": "c87ef09c-cd06-41b8-bd44-35bded59fab8",
   "metadata": {},
   "source": [
    "## Train Classical"
   ]
  },
  {
   "cell_type": "code",
   "execution_count": 11,
   "id": "ad1b52f9-0e31-4ea4-8edb-41272c82a8f0",
   "metadata": {},
   "outputs": [],
   "source": [
    "step = 0.0004  # Initial learning rate\n",
    "batch_size = 8\n",
    "num_epochs = 50\n",
    "gamma_lr_scheduler = 0.1  # Learning rate decay param"
   ]
  },
  {
   "cell_type": "code",
   "execution_count": 12,
   "id": "24238e61",
   "metadata": {},
   "outputs": [],
   "source": [
    "# Set up loss, optimizer, and learning rate decay manager\n",
    "loss_func = nn.CrossEntropyLoss()\n",
    "optimizer = optim.Adam(model.parameters(), lr=step)\n",
    "exp_lr_scheduler = lr_scheduler.StepLR(\n",
    "    optimizer, step_size=10, gamma=gamma_lr_scheduler\n",
    ")"
   ]
  },
  {
   "cell_type": "code",
   "execution_count": 13,
   "id": "035d2d6b",
   "metadata": {},
   "outputs": [],
   "source": [
    "# Function to train model(s)\n",
    "def train(model, loss_func, optimizer, scheduler, num_epochs):\n",
    "    best_model_wts = copy.deepcopy(model.state_dict())\n",
    "    best_loss = 100000.0\n",
    "    best_loss_train = 100000.0\n",
    "    print('Training started:')\n",
    "    for epoch in tqdm(range(num_epochs)):\n",
    "        for phase in ['train', 'validation']:\n",
    "            if phase == 'train':\n",
    "                # Set model to train mode\n",
    "                model.train()\n",
    "            else:\n",
    "                # Set model to eval mode\n",
    "                model.eval()\n",
    "            current_loss = 0.0\n",
    "            n_batches = dataset_sizes[phase] // batch_size\n",
    "            iter = 0\n",
    "            for X, Y in dataloaders[phase]:\n",
    "                batch_len = len(X)\n",
    "                X = X.to(device)\n",
    "                optimizer.zero_grad()  # Reset gradients\n",
    "                # If in train mode, get loss, step optimizer\n",
    "                with torch.set_grad_enabled(phase == \"train\"):\n",
    "                    outputs = model(X)\n",
    "                    _, preds = torch.max(outputs, 1)\n",
    "                    loss = loss_func(outputs, Y)\n",
    "                    if phase == \"train\":\n",
    "                        loss.backward()\n",
    "                        optimizer.step()\n",
    "                # Print iteration results\n",
    "                current_loss += loss.item() * batch_len\n",
    "                print('Phase: {} Epoch: {}/{} Iter: {}/{}'.format(phase, epoch+1, num_epochs, iter+1, n_batches+1),\n",
    "                    end=\"\\r\",\n",
    "                    flush=True)\n",
    "                iter += 1\n",
    "\n",
    "            # Get epoch stats and print\n",
    "            epoch_loss = current_loss / dataset_sizes[phase]\n",
    "            print('Phase: {} Epoch: {}/{} Loss: {:.4f}        '.format(\n",
    "                    'train' if phase == 'train' else 'validation  ',\n",
    "                    epoch + 1,\n",
    "                    num_epochs,\n",
    "                    epoch_loss,\n",
    "                )\n",
    "            )\n",
    "            # Update best vars and make copy of best weights\n",
    "            # if phase == \"validation\":\n",
    "            #     best_model_wts = copy.deepcopy(model.state_dict())\n",
    "            if phase == \"validation\" and epoch_loss < best_loss:\n",
    "                best_loss = epoch_loss\n",
    "                best_model_wts = copy.deepcopy(model.state_dict())\n",
    "            if phase == \"train\" and epoch_loss < best_loss_train:\n",
    "                best_loss_train = epoch_loss\n",
    "            # Decay learning rate\n",
    "            if phase == \"train\":\n",
    "                scheduler.step()\n",
    "    # Print final results\n",
    "    model.load_state_dict(best_model_wts)\n",
    "    print('Best test loss: {:.4f}'.format(best_loss))\n",
    "    return model"
   ]
  },
  {
   "cell_type": "code",
   "execution_count": 14,
   "id": "532cdecd-ffa2-45fa-b3d9-ed1d6d54f2cd",
   "metadata": {
    "collapsed": true,
    "jupyter": {
     "outputs_hidden": true
    }
   },
   "outputs": [
    {
     "name": "stdout",
     "output_type": "stream",
     "text": [
      "Training started:\n"
     ]
    },
    {
     "data": {
      "application/vnd.jupyter.widget-view+json": {
       "model_id": "91a075216799474380dd076b51dff090",
       "version_major": 2,
       "version_minor": 0
      },
      "text/plain": [
       "  0%|          | 0/50 [00:00<?, ?it/s]"
      ]
     },
     "metadata": {},
     "output_type": "display_data"
    },
    {
     "name": "stdout",
     "output_type": "stream",
     "text": [
      "Phase: train Epoch: 1/50 Loss: 0.3262        \n",
      "Phase: validation   Epoch: 1/50 Loss: 1.6868        \n",
      "Phase: train Epoch: 2/50 Loss: 0.3160        \n",
      "Phase: validation   Epoch: 2/50 Loss: 1.6780        \n",
      "Phase: train Epoch: 3/50 Loss: 0.3187        \n",
      "Phase: validation   Epoch: 3/50 Loss: 1.6697        \n",
      "Phase: train Epoch: 4/50 Loss: 0.3122        \n",
      "Phase: validation   Epoch: 4/50 Loss: 1.6682        \n",
      "Phase: train Epoch: 5/50 Loss: 0.3186        \n",
      "Phase: validation   Epoch: 5/50 Loss: 1.6644        \n",
      "Phase: train Epoch: 6/50 Loss: 0.3236        \n",
      "Phase: validation   Epoch: 6/50 Loss: 1.6637        \n",
      "Phase: train Epoch: 7/50 Loss: 0.3217        \n",
      "Phase: validation   Epoch: 7/50 Loss: 1.6620        \n",
      "Phase: train Epoch: 8/50 Loss: 0.3120        \n",
      "Phase: validation   Epoch: 8/50 Loss: 1.6595        \n",
      "Phase: train Epoch: 9/50 Loss: 0.3073        \n",
      "Phase: validation   Epoch: 9/50 Loss: 1.6556        \n",
      "Phase: train Epoch: 10/50 Loss: 0.3084        \n",
      "Phase: validation   Epoch: 10/50 Loss: 1.6532        \n",
      "Phase: train Epoch: 11/50 Loss: 0.3115        \n",
      "Phase: validation   Epoch: 11/50 Loss: 1.6538        \n",
      "Phase: train Epoch: 12/50 Loss: 0.3116        \n",
      "Phase: validation   Epoch: 12/50 Loss: 1.6540        \n",
      "Phase: train Epoch: 13/50 Loss: 0.3085        \n",
      "Phase: validation   Epoch: 13/50 Loss: 1.6533        \n",
      "Phase: train Epoch: 14/50 Loss: 0.3130        \n",
      "Phase: validation   Epoch: 14/50 Loss: 1.6534        \n",
      "Phase: train Epoch: 15/50 Loss: 0.3046        \n",
      "Phase: validation   Epoch: 15/50 Loss: 1.6536        \n",
      "Phase: train Epoch: 16/50 Loss: 0.3106        \n",
      "Phase: validation   Epoch: 16/50 Loss: 1.6522        \n",
      "Phase: train Epoch: 17/50 Loss: 0.3054        \n",
      "Phase: validation   Epoch: 17/50 Loss: 1.6521        \n",
      "Phase: train Epoch: 18/50 Loss: 0.3158        \n",
      "Phase: validation   Epoch: 18/50 Loss: 1.6522        \n",
      "Phase: train Epoch: 19/50 Loss: 0.3128        \n",
      "Phase: validation   Epoch: 19/50 Loss: 1.6507        \n",
      "Phase: train Epoch: 20/50 Loss: 0.3038        \n",
      "Phase: validation   Epoch: 20/50 Loss: 1.6514        \n",
      "Phase: train Epoch: 21/50 Loss: 0.3162        \n",
      "Phase: validation   Epoch: 21/50 Loss: 1.6513        \n",
      "Phase: train Epoch: 22/50 Loss: 0.3053        \n",
      "Phase: validation   Epoch: 22/50 Loss: 1.6496        \n",
      "Phase: train Epoch: 23/50 Loss: 0.3080        \n",
      "Phase: validation   Epoch: 23/50 Loss: 1.6505        \n",
      "Phase: train Epoch: 24/50 Loss: 0.3104        \n",
      "Phase: validation   Epoch: 24/50 Loss: 1.6505        \n",
      "Phase: train Epoch: 25/50 Loss: 0.3091        \n",
      "Phase: validation   Epoch: 25/50 Loss: 1.6512        \n",
      "Phase: train Epoch: 26/50 Loss: 0.3082        \n",
      "Phase: validation   Epoch: 26/50 Loss: 1.6501        \n",
      "Phase: train Epoch: 27/50 Loss: 0.3085        \n",
      "Phase: validation   Epoch: 27/50 Loss: 1.6514        \n",
      "Phase: train Epoch: 28/50 Loss: 0.3104        \n",
      "Phase: validation   Epoch: 28/50 Loss: 1.6509        \n",
      "Phase: train Epoch: 29/50 Loss: 0.3010        \n",
      "Phase: validation   Epoch: 29/50 Loss: 1.6518        \n",
      "Phase: train Epoch: 30/50 Loss: 0.3074        \n",
      "Phase: validation   Epoch: 30/50 Loss: 1.6512        \n",
      "Phase: train Epoch: 31/50 Loss: 0.3050        \n",
      "Phase: validation   Epoch: 31/50 Loss: 1.6510        \n",
      "Phase: train Epoch: 32/50 Loss: 0.3048        \n",
      "Phase: validation   Epoch: 32/50 Loss: 1.6510        \n",
      "Phase: train Epoch: 33/50 Loss: 0.3113        \n",
      "Phase: validation   Epoch: 33/50 Loss: 1.6512        \n",
      "Phase: train Epoch: 34/50 Loss: 0.3130        \n",
      "Phase: validation   Epoch: 34/50 Loss: 1.6515        \n",
      "Phase: train Epoch: 35/50 Loss: 0.3084        \n",
      "Phase: validation   Epoch: 35/50 Loss: 1.6510        \n",
      "Phase: train Epoch: 36/50 Loss: 0.3052        \n",
      "Phase: validation   Epoch: 36/50 Loss: 1.6514        \n",
      "Phase: train Epoch: 37/50 Loss: 0.3100        \n",
      "Phase: validation   Epoch: 37/50 Loss: 1.6515        \n",
      "Phase: train Epoch: 38/50 Loss: 0.3107        \n",
      "Phase: validation   Epoch: 38/50 Loss: 1.6510        \n",
      "Phase: train Epoch: 39/50 Loss: 0.3155        \n",
      "Phase: validation   Epoch: 39/50 Loss: 1.6510        \n",
      "Phase: train Epoch: 40/50 Loss: 0.3084        \n",
      "Phase: validation   Epoch: 40/50 Loss: 1.6506        \n",
      "Phase: train Epoch: 41/50 Loss: 0.3083        \n",
      "Phase: validation   Epoch: 41/50 Loss: 1.6517        \n",
      "Phase: train Epoch: 42/50 Loss: 0.3085        \n",
      "Phase: validation   Epoch: 42/50 Loss: 1.6522        \n",
      "Phase: train Epoch: 43/50 Loss: 0.3161        \n",
      "Phase: validation   Epoch: 43/50 Loss: 1.6512        \n",
      "Phase: train Epoch: 44/50 Loss: 0.3054        \n",
      "Phase: validation   Epoch: 44/50 Loss: 1.6503        \n",
      "Phase: train Epoch: 45/50 Loss: 0.3051        \n",
      "Phase: validation   Epoch: 45/50 Loss: 1.6509        \n",
      "Phase: train Epoch: 46/50 Loss: 0.3110        \n",
      "Phase: validation   Epoch: 46/50 Loss: 1.6509        \n",
      "Phase: train Epoch: 47/50 Loss: 0.3102        \n",
      "Phase: validation   Epoch: 47/50 Loss: 1.6512        \n",
      "Phase: train Epoch: 48/50 Loss: 0.3148        \n",
      "Phase: validation   Epoch: 48/50 Loss: 1.6516        \n",
      "Phase: train Epoch: 49/50 Loss: 0.3076        \n",
      "Phase: validation   Epoch: 49/50 Loss: 1.6508        \n",
      "Phase: train Epoch: 50/50 Loss: 0.3065        \n",
      "Phase: validation   Epoch: 50/50 Loss: 1.6520        \n",
      "Best test loss: 1.6496\n"
     ]
    }
   ],
   "source": [
    "model = train(model, loss_func, optimizer, exp_lr_scheduler, num_epochs=num_epochs)\n",
    "torch.save(model.state_dict(), './weights/updated20_classical_50epochs.pt')"
   ]
  },
  {
   "cell_type": "code",
   "execution_count": 16,
   "id": "8c6a233b-3605-4b8a-ac42-26e92cd2c92b",
   "metadata": {},
   "outputs": [
    {
     "data": {
      "application/vnd.jupyter.widget-view+json": {
       "model_id": "3a3143355fd942069a59a61dc53e67c0",
       "version_major": 2,
       "version_minor": 0
      },
      "text/plain": [
       "  0%|          | 0/21 [00:00<?, ?it/s]"
      ]
     },
     "metadata": {},
     "output_type": "display_data"
    },
    {
     "name": "stdout",
     "output_type": "stream",
     "text": [
      "0.2\n",
      "              precision    recall  f1-score   support\n",
      "\n",
      "        BRCA       0.71      0.08      0.15        59\n",
      "        COAD       0.00      0.00      0.00        16\n",
      "        KIRC       0.00      0.00      0.00        30\n",
      "        LUAD       0.00      0.00      0.00        28\n",
      "        PRAD       0.18      1.00      0.30        27\n",
      "\n",
      "    accuracy                           0.20       160\n",
      "   macro avg       0.18      0.22      0.09       160\n",
      "weighted avg       0.29      0.20      0.11       160\n",
      "\n"
     ]
    },
    {
     "name": "stderr",
     "output_type": "stream",
     "text": [
      "/opt/conda/envs/ml4fg/lib/python3.11/site-packages/sklearn/metrics/_classification.py:1471: UndefinedMetricWarning: Precision and F-score are ill-defined and being set to 0.0 in labels with no predicted samples. Use `zero_division` parameter to control this behavior.\n",
      "  _warn_prf(average, modifier, msg_start, len(result))\n",
      "/opt/conda/envs/ml4fg/lib/python3.11/site-packages/sklearn/metrics/_classification.py:1471: UndefinedMetricWarning: Precision and F-score are ill-defined and being set to 0.0 in labels with no predicted samples. Use `zero_division` parameter to control this behavior.\n",
      "  _warn_prf(average, modifier, msg_start, len(result))\n",
      "/opt/conda/envs/ml4fg/lib/python3.11/site-packages/sklearn/metrics/_classification.py:1471: UndefinedMetricWarning: Precision and F-score are ill-defined and being set to 0.0 in labels with no predicted samples. Use `zero_division` parameter to control this behavior.\n",
      "  _warn_prf(average, modifier, msg_start, len(result))\n"
     ]
    }
   ],
   "source": [
    "preds, targets = test(model, 'cpu', dataloaders['test'])\n",
    "print(accuracy_score(y_true=targets, y_pred=preds))\n",
    "print(classification_report(y_true=targets, y_pred=preds))"
   ]
  },
  {
   "cell_type": "markdown",
   "id": "fd073d9f-88a8-43c1-a147-1a6ca3baef3c",
   "metadata": {},
   "source": [
    "## Test Classical"
   ]
  },
  {
   "cell_type": "code",
   "execution_count": 13,
   "id": "a9e278d2",
   "metadata": {},
   "outputs": [],
   "source": [
    "# Helper function to test model\n",
    "def test(model, device, test_loader):\n",
    "    preds = []\n",
    "    targets = []\n",
    "    with torch.no_grad():\n",
    "        model.eval()\n",
    "        for data, target in tqdm(test_loader):\n",
    "            # Send the data and target to device\n",
    "            data, target = data.to(device), target.to(device)\n",
    "            if data.size()[0] < 8:\n",
    "                break\n",
    "            output = model(data)\n",
    "            preds += enc.inverse_transform(output).flatten().tolist()\n",
    "            targets += enc.inverse_transform(target).flatten().tolist()\n",
    "    return preds, targets\n",
    "\n",
    "# Helper function to load in weights and send to test function\n",
    "def load_and_test(percentage, model_type):\n",
    "    best_weights = torch.load(f'./weights/updated{percentage}_{model_type}_50epochs.pt')\n",
    "    model.load_state_dict(best_weights)\n",
    "    model.eval()\n",
    "    preds, targets = test(model, 'cpu', dataloaders['test'])\n",
    "    return accuracy_score(y_true=targets, y_pred=preds)"
   ]
  },
  {
   "cell_type": "code",
   "execution_count": 14,
   "id": "1ec251c3-c8c0-4c6b-a2f1-521a058859a1",
   "metadata": {},
   "outputs": [
    {
     "data": {
      "application/vnd.jupyter.widget-view+json": {
       "model_id": "d29d2c827e3c4043a1e8163a3a18eae9",
       "version_major": 2,
       "version_minor": 0
      },
      "text/plain": [
       "  0%|          | 0/21 [00:00<?, ?it/s]"
      ]
     },
     "metadata": {},
     "output_type": "display_data"
    },
    {
     "data": {
      "application/vnd.jupyter.widget-view+json": {
       "model_id": "2351d7f6c9284defba6280c672551680",
       "version_major": 2,
       "version_minor": 0
      },
      "text/plain": [
       "  0%|          | 0/21 [00:00<?, ?it/s]"
      ]
     },
     "metadata": {},
     "output_type": "display_data"
    },
    {
     "data": {
      "application/vnd.jupyter.widget-view+json": {
       "model_id": "f6711305544244b099565a184cddc31c",
       "version_major": 2,
       "version_minor": 0
      },
      "text/plain": [
       "  0%|          | 0/21 [00:00<?, ?it/s]"
      ]
     },
     "metadata": {},
     "output_type": "display_data"
    },
    {
     "data": {
      "application/vnd.jupyter.widget-view+json": {
       "model_id": "238fe2816ed846a984ed3fce61e63993",
       "version_major": 2,
       "version_minor": 0
      },
      "text/plain": [
       "  0%|          | 0/21 [00:00<?, ?it/s]"
      ]
     },
     "metadata": {},
     "output_type": "display_data"
    }
   ],
   "source": [
    "percentages = [20, 40, 60, 80]\n",
    "acc_class = []\n",
    "for percentage in percentages:\n",
    "    acc_class.append(load_and_test(percentage, 'classical'))\n",
    "\n",
    "# Add in full training results from interim report notebook\n",
    "acc_class.append(0.76)\n",
    "percentages.append(100)"
   ]
  },
  {
   "cell_type": "code",
   "execution_count": 15,
   "id": "22585857-2f2f-4ad2-b7d0-c5e255ff09ac",
   "metadata": {},
   "outputs": [],
   "source": [
    "# NOTE: See final_report_hqnn notebook to see where these numbers came from\n",
    "# 0.9627329192546584\n",
    "acc_hybrid = [\n",
    " 0.9565217391304348,\n",
    " 0.9565217391304348,\n",
    " 0.9565217391304348,\n",
    " 0.968944099378882,\n",
    "0.99]"
   ]
  },
  {
   "cell_type": "code",
   "execution_count": 16,
   "id": "161bf28b-8f5f-4ca0-8429-c580e67c8db8",
   "metadata": {},
   "outputs": [
    {
     "data": {
      "image/png": "[encoded data removed]",
      "text/plain": [
       "<Figure size 640x480 with 1 Axes>"
      ]
     },
     "metadata": {},
     "output_type": "display_data"
    }
   ],
   "source": [
    "plt.plot(percentages, acc_class, label='Classical')\n",
    "plt.plot(percentages, acc_hybrid, label='HQNN')\n",
    "plt.title('Accuracy vs Training Data Percentage')\n",
    "plt.xlabel('Percentage fof Training Data')\n",
    "plt.ylabel('Accuracy Score')\n",
    "plt.legend()\n",
    "plt.savefig('acc_training_percentage.png')"
   ]
  },
  {
   "cell_type": "code",
   "execution_count": null,
   "id": "79430daa-ec2f-45a8-abc1-63bf0d2e95e8",
   "metadata": {},
   "outputs": [],
   "source": []
  }
 ],
 "metadata": {
  "kernelspec": {
   "display_name": "Python 3 (ipykernel)",
   "language": "python",
   "name": "python3"
  },
  "language_info": {
   "codemirror_mode": {
    "name": "ipython",
    "version": 3
   },
   "file_extension": ".py",
   "mimetype": "text/x-python",
   "name": "python",
   "nbconvert_exporter": "python",
   "pygments_lexer": "ipython3",
   "version": "3.11.6"
  }
 },
 "nbformat": 4,
 "nbformat_minor": 5
}
